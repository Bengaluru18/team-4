{
 "cells": [
  {
   "cell_type": "code",
   "execution_count": 2,
   "metadata": {},
   "outputs": [
    {
     "name": "stdout",
     "output_type": "stream",
     "text": [
      "5000 25000 25000 25000\n"
     ]
    }
   ],
   "source": [
    "import random \n",
    "import numpy as np \n",
    "from sklearn import preprocessing\n",
    "#data generation for 5000 schools\n",
    "\n",
    "#quantify all schools as a vecotr as following  = [1.student/teacher, \n",
    "#                                                  2.strength,\n",
    "#                                                  3.teacher quality,\n",
    "#                                                  4.e-learning,\n",
    "#                                                  5.lab_quality, \n",
    "#                                                  6.library_qaulity, \n",
    "#                                                  7.toilets_quality,\n",
    "#                                                  8. medical_provisons, \n",
    "#                                                  9.mid-day_meal,\n",
    "#                                                  10.new_infrastructure\n",
    "#                                                  11.pass_percentage,\n",
    "#                                                  12.SDMC]\n",
    "\n",
    "\n",
    "data0 = []\n",
    "for _ in range(5000):\n",
    "    #this is 1\n",
    "    st = round(random.uniform(15, 90), 3)\n",
    "    #2\n",
    "    no = random.randint(15, 1500)\n",
    "    #3\n",
    "    tq = round(random.uniform(0,10), 3)\n",
    "    #4\n",
    "    beforea = [0]*2\n",
    "    el = random.randint(0,1)\n",
    "    beforea[el] = 1\n",
    "    #5\n",
    "    a=[0]*3\n",
    "    i = random.randint(0,2)\n",
    "    a[i] = 1\n",
    "    #6\n",
    "    b = [0]*3\n",
    "    j = random.randint(0,2)\n",
    "    b[j] = 1\n",
    "    #7\n",
    "    c = [0]*3\n",
    "    k = random.randint(0,2)\n",
    "    c[k] = 1\n",
    "    #8\n",
    "    d = [0]*3\n",
    "    mp = random.randint(0,2)\n",
    "    d[mp] = 1\n",
    "    #9\n",
    "    mdm = [0]*2\n",
    "    l = random.randint(0,1)\n",
    "    mdm[l] = 1\n",
    "    #10\n",
    "    ni = [0]*2\n",
    "    m = random.randint(0,1)\n",
    "    ni[m] = 1\n",
    "    #11\n",
    "    pp = round(random.uniform(10, 95), 3)\n",
    "    #12\n",
    "    sdmc=[0]*3\n",
    "    i = random.randint(0,2)\n",
    "    sdmc[i] = 1\n",
    "\n",
    "    data0.append([st, no, tq, beforea, a, b, c, d, mdm, ni, pp, sdmc])\n",
    "\n",
    "datab = []\n",
    "for _ in range(25000):\n",
    "    #this is 1\n",
    "    st = round(random.uniform(60, 90), 3)\n",
    "    #2\n",
    "    no = random.randint(15, 200)\n",
    "    #3\n",
    "    tq = round(random.uniform(0,3), 3)\n",
    "    #4\n",
    "    beforea = [1,0]    \n",
    "    #5\n",
    "    a=[1,0,0]\n",
    "    #6\n",
    "    b =[1,0,0]\n",
    "    #7\n",
    "    c = [1,0,0]\n",
    "    #8\n",
    "    d = [1,0,0]\n",
    "    #9\n",
    "    mdm = [1,0]\n",
    "    #10\n",
    "    ni = [1,0]\n",
    "    #11\n",
    "    pp = round(random.uniform(20, 40), 3)\n",
    "    #12\n",
    "    sdmc=[1,0,0]\n",
    "\n",
    "    datab.append([st, no, tq, beforea, a, b, c, d, mdm, ni, pp, sdmc, 0])\n",
    "\n",
    "datag = []\n",
    "for _ in range(25000):\n",
    "    #this is 1\n",
    "    st = round(random.uniform(20, 40), 3)\n",
    "    #2\n",
    "    no = random.randint(600, 1500)\n",
    "    #3\n",
    "    tq = round(random.uniform(7,10), 3)\n",
    "    #4\n",
    "    beforea = [0,1]\n",
    "    #5\n",
    "    a=[0,0,1]\n",
    "    #6\n",
    "    b = [0,0,1]\n",
    "    #7\n",
    "    c = [0,0,1]\n",
    "    #8\n",
    "    d = [0,0,1]\n",
    "    #9\n",
    "    mdm = [0,1]\n",
    "    #10\n",
    "    ni = [0,1]\n",
    "    #11\n",
    "    pp = round(random.uniform(65, 95), 3)\n",
    "    #12\n",
    "    sdmc=[0,0,1]\n",
    "    \n",
    "    datag.append([st, no, tq, beforea, a, b, c, d, mdm, ni, pp, sdmc,2])\n",
    "\n",
    "\n",
    "datam = []\n",
    "for _ in range(25000):\n",
    "    #this is 1\n",
    "    st = round(random.uniform(40, 60), 3)\n",
    "    #2\n",
    "    no = random.randint(200, 600)\n",
    "    #3\n",
    "    tq = round(random.uniform(4,6), 3)\n",
    "    #4\n",
    "    beforea = [0]*2\n",
    "    el = random.randint(0,1)\n",
    "    beforea[el] = 1\n",
    "    #5\n",
    "    a=[0]*3\n",
    "    i = random.randint(0,2)\n",
    "    a[i] = 1\n",
    "    #6\n",
    "    b = [0]*3\n",
    "    j = random.randint(0,2)\n",
    "    b[j] = 1\n",
    "    #7\n",
    "    c = [0]*3\n",
    "    k = random.randint(0,2)\n",
    "    c[k] = 1\n",
    "    #8\n",
    "    d = [0]*3\n",
    "    mp = random.randint(0,2)\n",
    "    d[mp] = 1\n",
    "    #9\n",
    "    mdm = [0]*2\n",
    "    l = random.randint(0,1)\n",
    "    mdm[l] = 1\n",
    "    #10\n",
    "    ni = [0]*2\n",
    "    m = random.randint(0,1)\n",
    "    ni[m] = 1\n",
    "    #11\n",
    "    pp = round(random.uniform(30, 65), 3)\n",
    "    #12\n",
    "    sdmc=[0]*3\n",
    "    i = random.randint(0,2)\n",
    "    sdmc[i] = 1\n",
    "\n",
    "    datam.append([st, no, tq, beforea, a, b, c, d, mdm, ni, pp, sdmc,1])\n",
    "\n",
    "\n",
    "print(len(data0), len(datab), len(datag), len(datam))"
   ]
  },
  {
   "cell_type": "code",
   "execution_count": 3,
   "metadata": {},
   "outputs": [],
   "source": [
    "data0_copy = data0.copy()\n",
    "datag_copy = datag.copy()\n",
    "datab_copy = datab.copy()\n",
    "datam_copy = datam.copy()"
   ]
  },
  {
   "cell_type": "code",
   "execution_count": 4,
   "metadata": {},
   "outputs": [],
   "source": [
    "import pandas\n",
    "df0 = pandas.DataFrame(data0_copy)\n",
    "dfg = pandas.DataFrame(datag_copy)\n",
    "dfb = pandas.DataFrame(datab_copy)\n",
    "dfm = pandas.DataFrame(datam_copy)"
   ]
  },
  {
   "cell_type": "code",
   "execution_count": 5,
   "metadata": {},
   "outputs": [],
   "source": [
    "yg = dfg[:][12]\n",
    "yg = np.array(yg)\n",
    "yg.shape\n",
    "yg = yg.reshape(25000,1)"
   ]
  },
  {
   "cell_type": "code",
   "execution_count": 6,
   "metadata": {},
   "outputs": [],
   "source": [
    "yb = dfb[:][12]\n",
    "yb = np.array(yb)\n",
    "yb.shape\n",
    "yb = yb.reshape(25000,1)"
   ]
  },
  {
   "cell_type": "code",
   "execution_count": 7,
   "metadata": {},
   "outputs": [],
   "source": [
    "ym = dfm[:][12]\n",
    "ym = np.array(ym)\n",
    "ym.shape\n",
    "ym = ym.reshape(25000,1)"
   ]
  },
  {
   "cell_type": "code",
   "execution_count": 8,
   "metadata": {},
   "outputs": [],
   "source": [
    "temp = np.concatenate((yg,yb), axis = 0)"
   ]
  },
  {
   "cell_type": "code",
   "execution_count": 9,
   "metadata": {},
   "outputs": [],
   "source": [
    "y = np.concatenate((temp, ym), axis = 0)"
   ]
  },
  {
   "cell_type": "code",
   "execution_count": 10,
   "metadata": {},
   "outputs": [],
   "source": [
    "np.save(\"y\", y)"
   ]
  },
  {
   "cell_type": "code",
   "execution_count": 11,
   "metadata": {},
   "outputs": [],
   "source": [
    "final_datag = []\n",
    "for lol in datag_copy:\n",
    "    hulala = []\n",
    "    for item in lol:\n",
    "        if isinstance(item, list):\n",
    "            for sub in item:\n",
    "                hulala.append(sub)\n",
    "        else:\n",
    "            hulala.append(item)\n",
    "    final_datag.append(hulala[:-1])"
   ]
  },
  {
   "cell_type": "code",
   "execution_count": 12,
   "metadata": {},
   "outputs": [],
   "source": [
    "final_datag = np.array(final_datag)"
   ]
  },
  {
   "cell_type": "code",
   "execution_count": 13,
   "metadata": {},
   "outputs": [],
   "source": [
    "final_datab = []\n",
    "for lol in datab_copy:\n",
    "    hulala = []\n",
    "    for item in lol:\n",
    "        if isinstance(item, list):\n",
    "            for sub in item:\n",
    "                hulala.append(sub)\n",
    "        else:\n",
    "            hulala.append(item)\n",
    "    final_datab.append(hulala[:-1])"
   ]
  },
  {
   "cell_type": "code",
   "execution_count": 14,
   "metadata": {},
   "outputs": [],
   "source": [
    "final_datab = np.array(final_datab)\n"
   ]
  },
  {
   "cell_type": "code",
   "execution_count": 15,
   "metadata": {},
   "outputs": [],
   "source": [
    "final_datam = []\n",
    "for lol in datam_copy:\n",
    "    hulala = []\n",
    "    for item in lol:\n",
    "        if isinstance(item, list):\n",
    "            for sub in item:\n",
    "                hulala.append(sub)\n",
    "        else:\n",
    "            hulala.append(item)\n",
    "    final_datam.append(hulala[:-1])"
   ]
  },
  {
   "cell_type": "code",
   "execution_count": 16,
   "metadata": {},
   "outputs": [],
   "source": [
    "final_datam = np.array(final_datam)\n"
   ]
  },
  {
   "cell_type": "code",
   "execution_count": 17,
   "metadata": {},
   "outputs": [],
   "source": [
    "temp_data = np.concatenate((final_datag, final_datab), axis = 0)"
   ]
  },
  {
   "cell_type": "code",
   "execution_count": 18,
   "metadata": {},
   "outputs": [],
   "source": [
    "X = np.concatenate((temp_data, final_datam), axis = 0)"
   ]
  },
  {
   "cell_type": "code",
   "execution_count": 19,
   "metadata": {},
   "outputs": [],
   "source": [
    "import numpy as np\n",
    "def make_flat(datam_copy):\n",
    "    final_datam = []\n",
    "    for lol in datam_copy:\n",
    "        hulala = []\n",
    "        for item in lol:\n",
    "            if isinstance(item, list):\n",
    "                for sub in item:\n",
    "                    hulala.append(sub)\n",
    "            else:\n",
    "                hulala.append(item)\n",
    "        final_datam.append(hulala)\n",
    "    return np.array(final_datam)\n",
    "    "
   ]
  },
  {
   "cell_type": "code",
   "execution_count": 20,
   "metadata": {},
   "outputs": [],
   "source": [
    "np.save(\"X\", X)"
   ]
  },
  {
   "cell_type": "code",
   "execution_count": 21,
   "metadata": {},
   "outputs": [],
   "source": [
    "y_new = np.load(\"y.npy\")"
   ]
  },
  {
   "cell_type": "code",
   "execution_count": 21,
   "metadata": {},
   "outputs": [
    {
     "name": "stderr",
     "output_type": "stream",
     "text": [
      "/home/adityakishor/anaconda3/lib/python3.6/site-packages/sklearn/utils/validation.py:578: DataConversionWarning: A column-vector y was passed when a 1d array was expected. Please change the shape of y to (n_samples, ), for example using ravel().\n",
      "  y = column_or_1d(y, warn=True)\n"
     ]
    },
    {
     "data": {
      "text/plain": [
       "1.0"
      ]
     },
     "execution_count": 21,
     "metadata": {},
     "output_type": "execute_result"
    }
   ],
   "source": [
    "from sklearn import svm\n",
    "from sklearn.model_selection import train_test_split\n",
    "\n",
    "\n",
    "X_train, X_test,y_train,y_test = train_test_split(X, y_new, test_size = 0.3, random_state = 1)\n",
    "\n",
    "clf = svm.SVC(kernel = \"linear\", C = 1)\n",
    "clf.fit(X_train,y_train)\n",
    "clf.score(X_test, y_test)\n"
   ]
  },
  {
   "cell_type": "code",
   "execution_count": 44,
   "metadata": {},
   "outputs": [],
   "source": [
    "from keras.models import Sequential\n",
    "from keras.layers import Dense, Dropout\n",
    "from keras.utils import np_utils\n",
    "from sklearn.model_selection import train_test_split\n",
    "\n",
    "X_t, X_v, y_t, y_v = train_test_split(X, y_new, test_size = 0.3, random_state = 0)\n",
    "\n",
    "y_t = np_utils.to_categorical(y_t)\n",
    "y_v = np_utils.to_categorical(y_v)\n",
    "\n",
    "model = Sequential()\n",
    "model.add(Dense(32,activation = 'relu', input_dim = 25))\n",
    "#model.add(Dense(128, activation = 'relu'))\n",
    "model.add(Dropout(0.5))\n",
    "model.add(Dense(3, activation = 'softmax'))\n",
    "model.compile(optimizer = 'adam', loss = 'categorical_crossentropy', metrics = ['accuracy'])"
   ]
  },
  {
   "cell_type": "code",
   "execution_count": 45,
   "metadata": {},
   "outputs": [
    {
     "name": "stdout",
     "output_type": "stream",
     "text": [
      "Train on 52500 samples, validate on 22500 samples\n",
      "Epoch 1/5\n",
      "52500/52500 [==============================] - 3s 53us/step - loss: 4.0618 - acc: 0.7262 - val_loss: 5.4171 - val_acc: 0.6639\n",
      "Epoch 2/5\n",
      "52500/52500 [==============================] - 3s 51us/step - loss: 2.7017 - acc: 0.8213 - val_loss: 5.4171 - val_acc: 0.6639\n",
      "Epoch 3/5\n",
      "52500/52500 [==============================] - 3s 50us/step - loss: 2.6951 - acc: 0.8243 - val_loss: 5.4171 - val_acc: 0.6639\n",
      "Epoch 4/5\n",
      "52500/52500 [==============================] - 3s 53us/step - loss: 2.6943 - acc: 0.8254 - val_loss: 5.4171 - val_acc: 0.6639\n",
      "Epoch 5/5\n",
      "52500/52500 [==============================] - 3s 52us/step - loss: 2.6657 - acc: 0.8286 - val_loss: 5.4171 - val_acc: 0.6639\n"
     ]
    },
    {
     "data": {
      "text/plain": [
       "<keras.callbacks.History at 0x7f2f3d3f0ac8>"
      ]
     },
     "execution_count": 45,
     "metadata": {},
     "output_type": "execute_result"
    }
   ],
   "source": [
    "model.fit(X_t, y_t, validation_data = (X_v,y_v),batch_size = 32, epochs = 5, verbose = 1)"
   ]
  },
  {
   "cell_type": "code",
   "execution_count": 46,
   "metadata": {},
   "outputs": [
    {
     "name": "stdout",
     "output_type": "stream",
     "text": [
      "22500/22500 [==============================] - 1s 24us/step\n"
     ]
    }
   ],
   "source": [
    "scores = model.evaluate(X_v, y_v, verbose = 1)"
   ]
  },
  {
   "cell_type": "code",
   "execution_count": 48,
   "metadata": {},
   "outputs": [
    {
     "name": "stdout",
     "output_type": "stream",
     "text": [
      "acc: 66.39%\n"
     ]
    }
   ],
   "source": [
    "print(\"%s: %.2f%%\" % (model.metrics_names[1], scores[1]*100))"
   ]
  },
  {
   "cell_type": "code",
   "execution_count": 49,
   "metadata": {},
   "outputs": [],
   "source": [
    "from keras.models import model_from_json\n",
    "\n",
    "model_json = model.to_json()\n",
    "with open(\"model.json\", \"w\") as json_file:\n",
    "    json_file.write(model_json)"
   ]
  },
  {
   "cell_type": "code",
   "execution_count": 50,
   "metadata": {},
   "outputs": [
    {
     "name": "stdout",
     "output_type": "stream",
     "text": [
      "Saved model to disk\n"
     ]
    }
   ],
   "source": [
    "model.save_weights(\"model.h5\")\n",
    "print(\"Saved model to disk\")"
   ]
  },
  {
   "cell_type": "code",
   "execution_count": 22,
   "metadata": {},
   "outputs": [],
   "source": [
    "finalX = np.array(X)"
   ]
  },
  {
   "cell_type": "code",
   "execution_count": 23,
   "metadata": {},
   "outputs": [
    {
     "data": {
      "text/plain": [
       "(75000, 25)"
      ]
     },
     "execution_count": 23,
     "metadata": {},
     "output_type": "execute_result"
    }
   ],
   "source": [
    "finalX.shape"
   ]
  },
  {
   "cell_type": "code",
   "execution_count": 25,
   "metadata": {},
   "outputs": [],
   "source": [
    "X_0 = X[:,[0,1,2,21]]\n",
    "X_1 = X[:,3:21]\n",
    "X_2 = X[:,22:]\n",
    "\n"
   ]
  },
  {
   "cell_type": "code",
   "execution_count": 26,
   "metadata": {},
   "outputs": [],
   "source": [
    "from sklearn.preprocessing import normalize\n",
    "\n",
    "X_0 = normalize(X_0,  axis = 1)"
   ]
  },
  {
   "cell_type": "code",
   "execution_count": 27,
   "metadata": {},
   "outputs": [],
   "source": [
    "temp_X = np.concatenate((X_1, X_2), axis = 1)"
   ]
  },
  {
   "cell_type": "code",
   "execution_count": 29,
   "metadata": {},
   "outputs": [],
   "source": [
    "final_X = np.concatenate((temp_X, X_0), axis = 1)"
   ]
  },
  {
   "cell_type": "code",
   "execution_count": 32,
   "metadata": {},
   "outputs": [],
   "source": [
    "sum_X = np.sum(final_X, axis = 1)"
   ]
  },
  {
   "cell_type": "code",
   "execution_count": 34,
   "metadata": {},
   "outputs": [],
   "source": [
    "sum_X = sum_X.reshape(75000,1)"
   ]
  },
  {
   "cell_type": "code",
   "execution_count": 39,
   "metadata": {},
   "outputs": [],
   "source": [
    "tsum = np.sum(sum_X,axis = 0)/75000"
   ]
  },
  {
   "cell_type": "code",
   "execution_count": 41,
   "metadata": {},
   "outputs": [],
   "source": [
    "target = sum_X - tsum"
   ]
  },
  {
   "cell_type": "code",
   "execution_count": 42,
   "metadata": {},
   "outputs": [
    {
     "data": {
      "text/plain": [
       "(75000, 1)"
      ]
     },
     "execution_count": 42,
     "metadata": {},
     "output_type": "execute_result"
    }
   ],
   "source": [
    "target.shape"
   ]
  },
  {
   "cell_type": "code",
   "execution_count": 47,
   "metadata": {},
   "outputs": [],
   "source": [
    "for _ in range(len(target)):\n",
    "    if target[_]<0:\n",
    "        target[_] = 0\n",
    "    elif target[_]>0.09:\n",
    "        target[_] = 1\n",
    "    elif\n",
    "        target[_] = 2"
   ]
  },
  {
   "cell_type": "code",
   "execution_count": 49,
   "metadata": {},
   "outputs": [
    {
     "data": {
      "text/plain": [
       "43784"
      ]
     },
     "execution_count": 49,
     "metadata": {},
     "output_type": "execute_result"
    }
   ],
   "source": [
    "list(target).count(0)"
   ]
  },
  {
   "cell_type": "code",
   "execution_count": 50,
   "metadata": {},
   "outputs": [
    {
     "data": {
      "text/plain": [
       "5232"
      ]
     },
     "execution_count": 50,
     "metadata": {},
     "output_type": "execute_result"
    }
   ],
   "source": [
    "list(target).count(2)"
   ]
  },
  {
   "cell_type": "code",
   "execution_count": 51,
   "metadata": {},
   "outputs": [
    {
     "data": {
      "text/plain": [
       "25984"
      ]
     },
     "execution_count": 51,
     "metadata": {},
     "output_type": "execute_result"
    }
   ],
   "source": [
    "list(target).count(1)"
   ]
  },
  {
   "cell_type": "code",
   "execution_count": null,
   "metadata": {},
   "outputs": [],
   "source": []
  }
 ],
 "metadata": {
  "kernelspec": {
   "display_name": "Python 3",
   "language": "python",
   "name": "python3"
  },
  "language_info": {
   "codemirror_mode": {
    "name": "ipython",
    "version": 3
   },
   "file_extension": ".py",
   "mimetype": "text/x-python",
   "name": "python",
   "nbconvert_exporter": "python",
   "pygments_lexer": "ipython3",
   "version": "3.6.5"
  }
 },
 "nbformat": 4,
 "nbformat_minor": 2
}
